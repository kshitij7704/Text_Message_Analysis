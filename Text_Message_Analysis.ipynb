{
 "cells": [
  {
   "cell_type": "code",
   "execution_count": 114,
   "id": "d1c7ac98",
   "metadata": {},
   "outputs": [],
   "source": [
    "import pandas as pd\n",
    "import re"
   ]
  },
  {
   "cell_type": "code",
   "execution_count": 115,
   "id": "28b7e781",
   "metadata": {},
   "outputs": [],
   "source": [
    "f = open(\"WhatsApp_Chat_Demo.txt\", \"r\", encoding=\"utf-8\")"
   ]
  },
  {
   "cell_type": "code",
   "execution_count": 116,
   "id": "7047154c",
   "metadata": {},
   "outputs": [],
   "source": [
    "data = f.read()"
   ]
  },
  {
   "cell_type": "code",
   "execution_count": null,
   "id": "e43e91b5",
   "metadata": {},
   "outputs": [],
   "source": [
    "print(data)"
   ]
  },
  {
   "cell_type": "code",
   "execution_count": 118,
   "id": "b5682703",
   "metadata": {},
   "outputs": [],
   "source": [
    "pattern='\\d{1,2}\\/\\d{1,2}\\/\\d{2},\\s\\d{1,2}:\\d{1,2}\\s(?:am|pm)'"
   ]
  },
  {
   "cell_type": "code",
   "execution_count": 128,
   "id": "be818bd1",
   "metadata": {},
   "outputs": [],
   "source": [
    "messages = re.split(pattern, data)[1:]"
   ]
  },
  {
   "cell_type": "code",
   "execution_count": 127,
   "id": "c33d930c",
   "metadata": {},
   "outputs": [],
   "source": [
    "dates = re.findall(pattern, data)\n",
    "dates = [date.replace('\\u202f', ' ') for date in dates]"
   ]
  },
  {
   "cell_type": "code",
   "execution_count": 121,
   "id": "b66e377f",
   "metadata": {},
   "outputs": [
    {
     "data": {
      "text/html": [
       "<div>\n",
       "<style scoped>\n",
       "    .dataframe tbody tr th:only-of-type {\n",
       "        vertical-align: middle;\n",
       "    }\n",
       "\n",
       "    .dataframe tbody tr th {\n",
       "        vertical-align: top;\n",
       "    }\n",
       "\n",
       "    .dataframe thead th {\n",
       "        text-align: right;\n",
       "    }\n",
       "</style>\n",
       "<table border=\"1\" class=\"dataframe\">\n",
       "  <thead>\n",
       "    <tr style=\"text-align: right;\">\n",
       "      <th></th>\n",
       "      <th>user_message</th>\n",
       "      <th>date</th>\n",
       "    </tr>\n",
       "  </thead>\n",
       "  <tbody>\n",
       "    <tr>\n",
       "      <th>0</th>\n",
       "      <td>- Messages and calls are end-to-end encrypted...</td>\n",
       "      <td>2023-01-03 14:56:00</td>\n",
       "    </tr>\n",
       "    <tr>\n",
       "      <th>1</th>\n",
       "      <td>- Messages and calls are end-to-end encrypted...</td>\n",
       "      <td>2023-06-01 12:03:00</td>\n",
       "    </tr>\n",
       "    <tr>\n",
       "      <th>2</th>\n",
       "      <td>- Messages and calls are end-to-end encrypted...</td>\n",
       "      <td>2023-06-08 10:21:00</td>\n",
       "    </tr>\n",
       "    <tr>\n",
       "      <th>3</th>\n",
       "      <td>- Messages and calls are end-to-end encrypted...</td>\n",
       "      <td>2023-10-10 08:15:00</td>\n",
       "    </tr>\n",
       "    <tr>\n",
       "      <th>4</th>\n",
       "      <td>- Messages and calls are end-to-end encrypted...</td>\n",
       "      <td>2023-10-11 18:59:00</td>\n",
       "    </tr>\n",
       "  </tbody>\n",
       "</table>\n",
       "</div>"
      ],
      "text/plain": [
       "                                        user_message                date\n",
       "0   - Messages and calls are end-to-end encrypted... 2023-01-03 14:56:00\n",
       "1   - Messages and calls are end-to-end encrypted... 2023-06-01 12:03:00\n",
       "2   - Messages and calls are end-to-end encrypted... 2023-06-08 10:21:00\n",
       "3   - Messages and calls are end-to-end encrypted... 2023-10-10 08:15:00\n",
       "4   - Messages and calls are end-to-end encrypted... 2023-10-11 18:59:00"
      ]
     },
     "execution_count": 121,
     "metadata": {},
     "output_type": "execute_result"
    }
   ],
   "source": [
    "df = pd.DataFrame({'user_message': messages, 'message_date': dates})\n",
    "df['message_date'] = pd.to_datetime(df['message_date'], format='%d/%m/%y, %I:%M %p')\n",
    "df.rename(columns={'message_date': 'date'}, inplace=True)\n",
    "df.head()"
   ]
  },
  {
   "cell_type": "code",
   "execution_count": 122,
   "id": "42bd8166",
   "metadata": {},
   "outputs": [
    {
     "data": {
      "text/html": [
       "<div>\n",
       "<style scoped>\n",
       "    .dataframe tbody tr th:only-of-type {\n",
       "        vertical-align: middle;\n",
       "    }\n",
       "\n",
       "    .dataframe tbody tr th {\n",
       "        vertical-align: top;\n",
       "    }\n",
       "\n",
       "    .dataframe thead th {\n",
       "        text-align: right;\n",
       "    }\n",
       "</style>\n",
       "<table border=\"1\" class=\"dataframe\">\n",
       "  <thead>\n",
       "    <tr style=\"text-align: right;\">\n",
       "      <th></th>\n",
       "      <th>date</th>\n",
       "      <th>user</th>\n",
       "      <th>message</th>\n",
       "    </tr>\n",
       "  </thead>\n",
       "  <tbody>\n",
       "    <tr>\n",
       "      <th>0</th>\n",
       "      <td>2023-01-03 14:56:00</td>\n",
       "      <td>group_notification</td>\n",
       "      <td>- Messages and calls are end-to-end encrypted...</td>\n",
       "    </tr>\n",
       "    <tr>\n",
       "      <th>1</th>\n",
       "      <td>2023-06-01 12:03:00</td>\n",
       "      <td>group_notification</td>\n",
       "      <td>- Messages and calls are end-to-end encrypted...</td>\n",
       "    </tr>\n",
       "    <tr>\n",
       "      <th>2</th>\n",
       "      <td>2023-06-08 10:21:00</td>\n",
       "      <td>group_notification</td>\n",
       "      <td>- Messages and calls are end-to-end encrypted...</td>\n",
       "    </tr>\n",
       "    <tr>\n",
       "      <th>3</th>\n",
       "      <td>2023-10-10 08:15:00</td>\n",
       "      <td>group_notification</td>\n",
       "      <td>- Messages and calls are end-to-end encrypted...</td>\n",
       "    </tr>\n",
       "    <tr>\n",
       "      <th>4</th>\n",
       "      <td>2023-10-11 18:59:00</td>\n",
       "      <td>group_notification</td>\n",
       "      <td>- Messages and calls are end-to-end encrypted...</td>\n",
       "    </tr>\n",
       "  </tbody>\n",
       "</table>\n",
       "</div>"
      ],
      "text/plain": [
       "                 date                user  \\\n",
       "0 2023-01-03 14:56:00  group_notification   \n",
       "1 2023-06-01 12:03:00  group_notification   \n",
       "2 2023-06-08 10:21:00  group_notification   \n",
       "3 2023-10-10 08:15:00  group_notification   \n",
       "4 2023-10-11 18:59:00  group_notification   \n",
       "\n",
       "                                             message  \n",
       "0   - Messages and calls are end-to-end encrypted...  \n",
       "1   - Messages and calls are end-to-end encrypted...  \n",
       "2   - Messages and calls are end-to-end encrypted...  \n",
       "3   - Messages and calls are end-to-end encrypted...  \n",
       "4   - Messages and calls are end-to-end encrypted...  "
      ]
     },
     "execution_count": 122,
     "metadata": {},
     "output_type": "execute_result"
    }
   ],
   "source": [
    "users = []\n",
    "messages = []\n",
    "for message in df['user_message']:\n",
    "    entry = re.split('([\\w\\W]+?):\\s', message)\n",
    "    if entry[1:]:\n",
    "        users.append(entry[1])\n",
    "        messages.append(\" \".join(entry[2:]))\n",
    "    else:\n",
    "        users.append('group_notification')\n",
    "        messages.append(entry[0])\n",
    "\n",
    "df['user'] = users\n",
    "df['message'] = messages\n",
    "df.drop(columns=['user_message'], inplace=True)\n",
    "df.head()"
   ]
  },
  {
   "cell_type": "code",
   "execution_count": null,
   "id": "250285c4",
   "metadata": {},
   "outputs": [],
   "source": [
    "print(df)"
   ]
  },
  {
   "cell_type": "code",
   "execution_count": 124,
   "id": "4a87d42b",
   "metadata": {},
   "outputs": [],
   "source": [
    "df['only_date'] = df['date'].dt.date\n",
    "df['year'] = df['date'].dt.year\n",
    "df['month_num'] = df['date'].dt.month\n",
    "df['month'] = df['date'].dt.month_name()\n",
    "df['day'] = df['date'].dt.day\n",
    "df['day_name'] = df['date'].dt.day_name()\n",
    "df['hour'] = df['date'].dt.hour\n",
    "df['minute'] = df['date'].dt.minute"
   ]
  },
  {
   "cell_type": "code",
   "execution_count": 125,
   "id": "12b52901",
   "metadata": {},
   "outputs": [
    {
     "data": {
      "text/html": [
       "<div>\n",
       "<style scoped>\n",
       "    .dataframe tbody tr th:only-of-type {\n",
       "        vertical-align: middle;\n",
       "    }\n",
       "\n",
       "    .dataframe tbody tr th {\n",
       "        vertical-align: top;\n",
       "    }\n",
       "\n",
       "    .dataframe thead th {\n",
       "        text-align: right;\n",
       "    }\n",
       "</style>\n",
       "<table border=\"1\" class=\"dataframe\">\n",
       "  <thead>\n",
       "    <tr style=\"text-align: right;\">\n",
       "      <th></th>\n",
       "      <th>date</th>\n",
       "      <th>user</th>\n",
       "      <th>message</th>\n",
       "      <th>only_date</th>\n",
       "      <th>year</th>\n",
       "      <th>month_num</th>\n",
       "      <th>month</th>\n",
       "      <th>day</th>\n",
       "      <th>day_name</th>\n",
       "      <th>hour</th>\n",
       "      <th>minute</th>\n",
       "    </tr>\n",
       "  </thead>\n",
       "  <tbody>\n",
       "    <tr>\n",
       "      <th>0</th>\n",
       "      <td>2023-01-03 14:56:00</td>\n",
       "      <td>group_notification</td>\n",
       "      <td>- Messages and calls are end-to-end encrypted...</td>\n",
       "      <td>2023-01-03</td>\n",
       "      <td>2023</td>\n",
       "      <td>1</td>\n",
       "      <td>January</td>\n",
       "      <td>3</td>\n",
       "      <td>Tuesday</td>\n",
       "      <td>14</td>\n",
       "      <td>56</td>\n",
       "    </tr>\n",
       "    <tr>\n",
       "      <th>1</th>\n",
       "      <td>2023-06-01 12:03:00</td>\n",
       "      <td>group_notification</td>\n",
       "      <td>- Messages and calls are end-to-end encrypted...</td>\n",
       "      <td>2023-06-01</td>\n",
       "      <td>2023</td>\n",
       "      <td>6</td>\n",
       "      <td>June</td>\n",
       "      <td>1</td>\n",
       "      <td>Thursday</td>\n",
       "      <td>12</td>\n",
       "      <td>3</td>\n",
       "    </tr>\n",
       "    <tr>\n",
       "      <th>2</th>\n",
       "      <td>2023-06-08 10:21:00</td>\n",
       "      <td>group_notification</td>\n",
       "      <td>- Messages and calls are end-to-end encrypted...</td>\n",
       "      <td>2023-06-08</td>\n",
       "      <td>2023</td>\n",
       "      <td>6</td>\n",
       "      <td>June</td>\n",
       "      <td>8</td>\n",
       "      <td>Thursday</td>\n",
       "      <td>10</td>\n",
       "      <td>21</td>\n",
       "    </tr>\n",
       "    <tr>\n",
       "      <th>3</th>\n",
       "      <td>2023-10-10 08:15:00</td>\n",
       "      <td>group_notification</td>\n",
       "      <td>- Messages and calls are end-to-end encrypted...</td>\n",
       "      <td>2023-10-10</td>\n",
       "      <td>2023</td>\n",
       "      <td>10</td>\n",
       "      <td>October</td>\n",
       "      <td>10</td>\n",
       "      <td>Tuesday</td>\n",
       "      <td>8</td>\n",
       "      <td>15</td>\n",
       "    </tr>\n",
       "    <tr>\n",
       "      <th>4</th>\n",
       "      <td>2023-10-11 18:59:00</td>\n",
       "      <td>group_notification</td>\n",
       "      <td>- Messages and calls are end-to-end encrypted...</td>\n",
       "      <td>2023-10-11</td>\n",
       "      <td>2023</td>\n",
       "      <td>10</td>\n",
       "      <td>October</td>\n",
       "      <td>11</td>\n",
       "      <td>Wednesday</td>\n",
       "      <td>18</td>\n",
       "      <td>59</td>\n",
       "    </tr>\n",
       "  </tbody>\n",
       "</table>\n",
       "</div>"
      ],
      "text/plain": [
       "                 date                user  \\\n",
       "0 2023-01-03 14:56:00  group_notification   \n",
       "1 2023-06-01 12:03:00  group_notification   \n",
       "2 2023-06-08 10:21:00  group_notification   \n",
       "3 2023-10-10 08:15:00  group_notification   \n",
       "4 2023-10-11 18:59:00  group_notification   \n",
       "\n",
       "                                             message   only_date  year  \\\n",
       "0   - Messages and calls are end-to-end encrypted...  2023-01-03  2023   \n",
       "1   - Messages and calls are end-to-end encrypted...  2023-06-01  2023   \n",
       "2   - Messages and calls are end-to-end encrypted...  2023-06-08  2023   \n",
       "3   - Messages and calls are end-to-end encrypted...  2023-10-10  2023   \n",
       "4   - Messages and calls are end-to-end encrypted...  2023-10-11  2023   \n",
       "\n",
       "   month_num    month  day   day_name  hour  minute  \n",
       "0          1  January    3    Tuesday    14      56  \n",
       "1          6     June    1   Thursday    12       3  \n",
       "2          6     June    8   Thursday    10      21  \n",
       "3         10  October   10    Tuesday     8      15  \n",
       "4         10  October   11  Wednesday    18      59  "
      ]
     },
     "execution_count": 125,
     "metadata": {},
     "output_type": "execute_result"
    }
   ],
   "source": [
    "df.head()"
   ]
  },
  {
   "cell_type": "code",
   "execution_count": null,
   "id": "46f609d0",
   "metadata": {},
   "outputs": [],
   "source": []
  }
 ],
 "metadata": {
  "kernelspec": {
   "display_name": "Python 3 (ipykernel)",
   "language": "python",
   "name": "python3"
  },
  "language_info": {
   "codemirror_mode": {
    "name": "ipython",
    "version": 3
   },
   "file_extension": ".py",
   "mimetype": "text/x-python",
   "name": "python",
   "nbconvert_exporter": "python",
   "pygments_lexer": "ipython3",
   "version": "3.11.5"
  }
 },
 "nbformat": 4,
 "nbformat_minor": 5
}
